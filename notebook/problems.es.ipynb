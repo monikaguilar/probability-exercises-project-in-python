{
 "cells": [
  {
   "cell_type": "markdown",
   "id": "a41f3622",
   "metadata": {},
   "source": [
    "# Ejercicios de probabilidad"
   ]
  },
  {
   "cell_type": "markdown",
   "id": "a6bdbd89",
   "metadata": {},
   "source": [
    "## Ejercicio 1 \n",
    "\n",
    "Dos dados se lanzan una vez y se observa el total obtenido. Usa una simulación para encontrar la probabilidad estimada de que la puntuación sea mayor a 7 o un número par. Una simulación es una repetición del mismo experimento multiples veces para observar su comportamiento:\n",
    "\n",
    "- Ejecuta el experimento 1000 veces (lanza 2 dados 1000 veces, y suma el número de ambos dados).\n",
    "- Lleva ua cuenta de los números y las veces que la suma fue mayor a 7 o un número par.\n",
    "- Divide el número del paso 2 entre el número de iteraciones(1000)."
   ]
  },
  {
   "cell_type": "code",
   "execution_count": 6,
   "id": "8939d892",
   "metadata": {},
   "outputs": [
    {
     "name": "stdout",
     "output_type": "stream",
     "text": [
      "la probabilidad de que sea mayor a 7 o par es  0.671\n"
     ]
    }
   ],
   "source": [
    "import random\n",
    "import pandas as pd\n",
    "import numpy as np \n",
    "\n",
    "contador= 0\n",
    "n=1000\n",
    "\n",
    "for i in range (n):\n",
    "    dado1 = random.randint (1,6)\n",
    "    dado2 = random.randint (1,6)\n",
    "\n",
    "    suma= dado1 + dado2 \n",
    "    if (suma >7 ) or (suma%2==0): \n",
    "        contador = contador+1\n",
    "resultado =  contador/n \n",
    "\n",
    "\n",
    "\n",
    "print (f\"la probabilidad de que sea mayor a 7 o par es  {resultado}\" )"
   ]
  },
  {
   "cell_type": "markdown",
   "id": "55732bca",
   "metadata": {},
   "source": [
    "## Ejercicio 2\n",
    "\n",
    "Una caja contiene 10 bolas blancas, 20 bolas rojas y 30 bolas verdes. Si tomamos 5 bolas de la caja reemplazándolas (tomando una bola, anotando el color y luego regresandola a la caja). Queremos saber la probabilidad de:\n",
    "\n",
    "1. Tomar 3 blancas y 2 rojas.\n",
    "2. Toas todas del mismo color.\n",
    "\n",
    "Ejecuta el experimento 1000 veces y calcula las probabilidades que mencionadas."
   ]
  },
  {
   "cell_type": "code",
   "execution_count": 10,
   "id": "23244d20",
   "metadata": {},
   "outputs": [
    {
     "name": "stdout",
     "output_type": "stream",
     "text": [
      "{0: 'blanco', 1: 'blanco', 2: 'blanco', 3: 'blanco', 4: 'blanco', 5: 'blanco', 6: 'blanco', 7: 'blanco', 8: 'blanco', 9: 'blanco', 10: 'rojo', 11: 'rojo', 12: 'rojo', 13: 'rojo', 14: 'rojo', 15: 'rojo', 16: 'rojo', 17: 'rojo', 18: 'rojo', 19: 'rojo', 20: 'rojo', 21: 'rojo', 22: 'rojo', 23: 'rojo', 24: 'rojo', 25: 'rojo', 26: 'rojo', 27: 'rojo', 28: 'rojo', 29: 'rojo', 30: 'verde', 31: 'verde', 32: 'verde', 33: 'verde', 34: 'verde', 35: 'verde', 36: 'verde', 37: 'verde', 38: 'verde', 39: 'verde', 40: 'verde', 41: 'verde', 42: 'verde', 43: 'verde', 44: 'verde', 45: 'verde', 46: 'verde', 47: 'verde', 48: 'verde', 49: 'verde', 50: 'verde', 51: 'verde', 52: 'verde', 53: 'verde', 54: 'verde', 55: 'verde', 56: 'verde', 57: 'verde', 58: 'verde', 59: 'verde'}\n",
      "la probabilidad de 3 blancas y 2 rojas es: 0.0%\n",
      "la probabilidad de que de el mismo color es: 2.6%\n"
     ]
    }
   ],
   "source": [
    "ball_box = {}\n",
    "\n",
    "# Create the box of balls\n",
    "for i in range(60):\n",
    "    if i < 10:\n",
    "        ball_box[i] = \"blanco\"\n",
    "    elif (i > 9) and (i < 30):\n",
    "        ball_box[i] = \"rojo\"\n",
    "    else:\n",
    "        ball_box[i] = \"verde\"\n",
    "\n",
    "print(ball_box)\n",
    "            \n",
    "def take_balls(n_simulations = 1000):\n",
    "    count_1 = 0\n",
    "    count_2 = 0\n",
    "\n",
    "    for i in range(n_simulations):\n",
    "        colors = []\n",
    "\n",
    "        # Take 5 balls from the box\n",
    "        for i in range(5):\n",
    "            colors.append(ball_box[np.random.randint(0, 59)])\n",
    "\n",
    "        # Convert list to Numpy array for better filtering\n",
    "        colors = np.array(colors)\n",
    "        \n",
    "        white_balls = sum(colors == \"blanco\")\n",
    "        red_balls = sum(colors == \"Rojo\")\n",
    "        green_balls = sum(colors == \"verde\")\n",
    "\n",
    "        # Decide if we should add it to the count:\n",
    "        if (white_balls == 3) and (red_balls == 2):\n",
    "            count_1 += 1\n",
    "        \n",
    "        if (white_balls == 5) or (red_balls == 5) or (green_balls == 5):\n",
    "            count_2 += 1\n",
    "    \n",
    "    return count_1 / n_simulations, count_2 / n_simulations\n",
    "\n",
    "probabilidades = take_balls(1000)\n",
    "\n",
    "print(f\"la probabilidad de 3 blancas y 2 rojas es: {np.round(probabilidades[0] * 100, 2)}%\")\n",
    "print(f\"la probabilidad de que de el mismo color es: {np.round(probabilidades[1] * 100, 2)}%\")"
   ]
  }
 ],
 "metadata": {
  "kernelspec": {
   "display_name": "Python 3",
   "language": "python",
   "name": "python3"
  },
  "language_info": {
   "codemirror_mode": {
    "name": "ipython",
    "version": 3
   },
   "file_extension": ".py",
   "mimetype": "text/x-python",
   "name": "python",
   "nbconvert_exporter": "python",
   "pygments_lexer": "ipython3",
   "version": "3.11.4"
  }
 },
 "nbformat": 4,
 "nbformat_minor": 5
}
